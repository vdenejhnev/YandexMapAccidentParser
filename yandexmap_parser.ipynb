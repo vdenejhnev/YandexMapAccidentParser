{
 "cells": [
  {
   "cell_type": "code",
   "execution_count": 1,
   "metadata": {},
   "outputs": [],
   "source": [
    "import cv2\n",
    "import numpy as np\n",
    "import os\n",
    "from selenium import webdriver\n",
    "from PIL import Image\n",
    "from datetime import datetime\n",
    "import pandas as pd\n",
    "import sqlalchemy"
   ]
  },
  {
   "cell_type": "code",
   "execution_count": 2,
   "metadata": {},
   "outputs": [],
   "source": [
    "from selenium import webdriver\n",
    "from selenium.webdriver.chrome.service import Service\n",
    "from selenium.webdriver.chrome.options import Options"
   ]
  },
  {
   "cell_type": "code",
   "execution_count": 3,
   "metadata": {},
   "outputs": [],
   "source": [
    "info_dict = {'xy_coord': [], 'date': [], 'timestamp': [], 'coord_stamp': []}"
   ]
  },
  {
   "cell_type": "code",
   "execution_count": null,
   "metadata": {},
   "outputs": [],
   "source": [
    "session_dict = {'xy_coord': [], 'date': [], 'timestamp': [], 'coord_stamp': []}"
   ]
  },
  {
   "cell_type": "code",
   "execution_count": 5,
   "metadata": {},
   "outputs": [],
   "source": [
    "region_dict = {'Центр': (255, 255, 255), 'Юго-Запад': (0, 38, 255), 'Фили': (182, 255, 0), 'Строгино': (255, 106, 0), 'Тушино': (178, 0, 255), 'Ховрино': (0, 127, 127),\n",
    "            'Дмитровка': (38, 127, 0), 'Останкино': (128, 128, 128), 'Медведково': (0, 255, 255),'Лефортово': (127, 0, 55), 'Измайлово': (127, 51, 0), 'Перово': (255, 216, 0),\n",
    "            'Вешняки': (178, 255, 193), 'Кузьминки': (124, 94, 124), 'Люблино': (0, 148, 255), 'Зябликово': (127, 0, 0), 'Каширка': (56, 54, 63), 'Сукино Болото': (0, 19, 127)}"
   ]
  },
  {
   "cell_type": "code",
   "execution_count": 6,
   "metadata": {},
   "outputs": [],
   "source": [
    "def do_reg(xy_coord):\n",
    "    if img_color_dist.getpixel((xy_coord[0],xy_coord[1]))[:3] in region_dict.values():\n",
    "        return list(region_dict.keys())[list(region_dict.values()).index(img_color_dist.getpixel((xy_coord[0],xy_coord[1]))[:3])]\n",
    "    else:\n",
    "        return 'За МКАД'"
   ]
  },
  {
   "cell_type": "code",
   "execution_count": 23,
   "metadata": {},
   "outputs": [],
   "source": [
    "engine = sqlalchemy.create_engine('mysql+mysqlconnector://root:@localhost:3306/accidents')\n",
    "def send_values(df):\n",
    "\n",
    "    # transform column values to string for MySQL database\n",
    "    for col in df.columns:\n",
    "        df[col] = df[col].apply(lambda x: str(x) if isinstance(x, tuple) else x)\n",
    "\n",
    "    con = engine.connect()\n",
    "    table_name = 'accidents'\n",
    "    df.to_sql(table_name, con, if_exists='append', index=False)\n",
    "    con.close()"
   ]
  },
  {
   "cell_type": "code",
   "execution_count": 21,
   "metadata": {},
   "outputs": [],
   "source": [
    "# https://chromedriver.chromium.org/home\n",
    "chromedriver = \"chromedriver-win64/chromedriver.exe\"\n",
    "\n",
    "chrome_options = Options()\n",
    "chrome_options.add_argument(\"--start-maximized\")\n",
    "\n",
    "service = Service(executable_path=chromedriver)\n",
    "driver = webdriver.Chrome(service=service, options=chrome_options)\n",
    "driver.maximize_window()\n",
    "driver.get(\"https://yandex.ru/maps/213/moscow/?l=trf%2Ctrfe&ll=37.838392%2C55.739488&z=11.16\")\n",
    "driver.get_screenshot_as_file(\"screenshot.png\")\n",
    "driver.quit()"
   ]
  },
  {
   "cell_type": "code",
   "execution_count": 22,
   "metadata": {},
   "outputs": [],
   "source": [
    "img = Image.open(os.path.join(os.getcwd(), \"screenshot.png\"))\n",
    "area = (450, 50, 1200, 923)\n",
    "img.crop(area).save(os.path.join(os.getcwd(), \"screenshot_crop.png\"))\n",
    "img_color_dist = Image.open(os.path.join(os.getcwd(), \"region_dist_color.png\"))\n",
    "image = cv2.imread(os.path.join(os.getcwd(), \"screenshot_crop.png\"), cv2.IMREAD_COLOR)\n",
    "\n",
    "template = cv2.imread(os.path.join(os.getcwd(), \"scr_temp.png\"), cv2.IMREAD_COLOR)\n",
    "h, w = template.shape[:2]\n",
    "\n",
    "method = cv2.TM_CCOEFF_NORMED\n",
    "\n",
    "threshold = 0.8\n",
    "\n",
    "res = cv2.matchTemplate(image, template, method)\n",
    "\n",
    "\n",
    "# fake out max_val for first run through loop\n",
    "max_val = 1\n",
    "x_c = -10000\n",
    "y_c = -10000\n",
    "\n",
    "len_ses_dict = 0\n",
    "\n",
    "while max_val > threshold:\n",
    "    min_val, max_val, min_loc, max_loc = cv2.minMaxLoc(res)\n",
    "    if x_c == (2*max_loc[0]+w)/2 and y_c == (2*max_loc[1]+h)/2:\n",
    "        break\n",
    "    else:\n",
    "        res[max_loc[1]-h//2:max_loc[1]+h//2+1, max_loc[0]-w//2:max_loc[0]+w//2+1] = 0   \n",
    "        image = cv2.rectangle(image,(max_loc[0],max_loc[1]), (max_loc[0]+w+1, max_loc[1]+h+1), (255,0,0) )\n",
    "        x_c = (2*max_loc[0]+w)/2\n",
    "        y_c = (2*max_loc[1]+h)/2\n",
    "        if (x_c, y_c) not in ['xy_coord']:\n",
    "            info_dict['xy_coord'].append( (x_c, y_c))\n",
    "            info_dict['date'].append(datetime.now().strftime(\"%Y-%m-%d %H:%M:%S\"))\n",
    "            info_dict['timestamp'].append(int(datetime.now().timestamp()))\n",
    "            info_dict['coord_stamp'].append((x_c, y_c, int(datetime.now().timestamp())))\n",
    "            \n",
    "            session_dict['xy_coord'].append( (x_c, y_c))\n",
    "            session_dict['date'].append(datetime.now().strftime(\"%Y-%m-%d %H:%M:%S\"))\n",
    "            session_dict['timestamp'].append(int(datetime.now().timestamp()))\n",
    "            session_dict['coord_stamp'].append((x_c, y_c, int(datetime.now().timestamp())))\n",
    "        elif (x_c, y_c) in info_dict['xy_coord'] and int(datetime.now().timestamp()) - [z for x, y, z in info_dict['coord_stamp'] if x == x_c and y == y_c][0] > 5000:\n",
    "            info_dict['xy_coord'].append(x_c, y_c)\n",
    "            info_dict['date'].append(datetime.now().strftime(\"%Y-%m-%d %H:%M:%S\"))\n",
    "            info_dict['timestamp'].append(int(datetime.now().timestamp()))\n",
    "            info_dict['coord_stamp'].append((x_c, y_c, int(datetime.now().timestamp())))\n",
    "            \n",
    "            session_dict['xy_coord'].append( (x_c, y_c))\n",
    "            session_dict['date'].append(datetime.now().strftime(\"%Y-%m-%d %H:%M:%S\"))\n",
    "            session_dict['timestamp'].append(int(datetime.now().timestamp()))\n",
    "            session_dict['coord_stamp'].append((x_c, y_c, int(datetime.now().timestamp())))\n",
    "            \n",
    "cv2.imwrite(r'output.png', image)\n",
    "\n",
    "if  len_ses_dict != len(session_dict['xy_coord']):\n",
    "    len_ses_dict = len(session_dict['xy_coord'])\n",
    "    df_session = pd.DataFrame.from_dict(session_dict, orient='index')\n",
    "    df_session = df_session.transpose()\n",
    "    df_session['region'] = df_session.apply(lambda x: do_reg(x['xy_coord']), axis =1)\n",
    "    send_values(df_session)\n",
    "    session_dict = {'xy_coord': [], 'date': [], 'timestamp': [], 'coord_stamp': []}\n",
    "    df_session = pd.DataFrame()\n",
    "    \n",
    "img_color_dist.close()\n",
    "img.close()"
   ]
  }
 ],
 "metadata": {
  "kernelspec": {
   "display_name": "Python 3",
   "language": "python",
   "name": "python3"
  },
  "language_info": {
   "codemirror_mode": {
    "name": "ipython",
    "version": 3
   },
   "file_extension": ".py",
   "mimetype": "text/x-python",
   "name": "python",
   "nbconvert_exporter": "python",
   "pygments_lexer": "ipython3",
   "version": "3.12.10"
  }
 },
 "nbformat": 4,
 "nbformat_minor": 4
}
